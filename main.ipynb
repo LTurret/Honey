{
 "cells": [
  {
   "cell_type": "markdown",
   "metadata": {},
   "source": [
    "# 前置階段"
   ]
  },
  {
   "cell_type": "markdown",
   "metadata": {},
   "source": [
    "導入函示庫"
   ]
  },
  {
   "cell_type": "code",
   "execution_count": 1,
   "metadata": {},
   "outputs": [],
   "source": [
    "import copy\n",
    "import os\n",
    "\n",
    "import numpy as np\n",
    "import pandas as pd\n",
    "import seaborn as sns\n",
    "import matplotlib.pyplot as plt\n",
    "\n",
    "from matplotlib.colors import ListedColormap\n",
    "from sklearn.preprocessing import StandardScaler\n",
    "from sklearn.neighbors import KNeighborsClassifier\n",
    "from sklearn.linear_model import LogisticRegression\n",
    "from sklearn.model_selection import train_test_split\n",
    "from sklearn.metrics import confusion_matrix, accuracy_score"
   ]
  },
  {
   "cell_type": "markdown",
   "metadata": {},
   "source": [
    "資料集為`ap/mz`質譜圖  \n",
    "先導入原始資料集並切割為一個`子長度為2`的`2-Dimensional`的`List`資料  \n",
    "\n",
    "而其資料格式為：\n",
    "```py\n",
    "[[\"強度（amplitude）\"], [\"荷值比（m/z）\"]]\n",
    "```\n"
   ]
  },
  {
   "cell_type": "code",
   "execution_count": 2,
   "metadata": {},
   "outputs": [
    {
     "name": "stdout",
     "output_type": "stream",
     "text": [
      "陣列總長度：107\n",
      "取陣列第一筆資料檢查格式：['55.0', '5.809e4']\n"
     ]
    }
   ],
   "source": [
    "piece = []\n",
    "\n",
    "with open(\"./raw/List.txt\", mode=\"r\") as raw:\n",
    "    for fragment in raw:\n",
    "        piece.append(fragment.split())\n",
    "\n",
    "print(f\"陣列總長度：{len(piece)}\")\n",
    "print(f\"取陣列第一筆資料檢查格式：{piece[0]}\")"
   ]
  },
  {
   "cell_type": "markdown",
   "metadata": {},
   "source": [
    "設計一個函式使`string（字串）`能夠依照科學記號轉換為`float（浮點數）`  \n",
    "目的是讓不可被比較的`字串`資料類型轉換成可以比較的`浮點數`資料型態  \n",
    "\n",
    "轉換方式抽象資料方法：$\\text{Scientific Notation} = N_\\text{float} \\cdot E \\pm K_\\text{exponential}$\n",
    "\n",
    "目前沒有遇過荷值比指數部分為負數，因此先不實作負指數轉換"
   ]
  },
  {
   "cell_type": "code",
   "execution_count": 3,
   "metadata": {},
   "outputs": [
    {
     "name": "stdout",
     "output_type": "stream",
     "text": [
      "轉換前：5.809e4，資料型態為：<class 'str'>\n",
      "轉換前：58090.0，資料型態為：<class 'float'>\n"
     ]
    }
   ],
   "source": [
    "# Abbriveation of \"Scientific\"\n",
    "def snc(raw:str, restrict:bool=False, ndigits:int=1):\n",
    "\n",
    "    raw = raw.split(\"e\")\n",
    "    final = float(raw[0])*(10**int(raw[1]))\n",
    "\n",
    "    if restrict:\n",
    "        return round(final, ndigits)\n",
    "    else:\n",
    "        return final\n",
    "\n",
    "print(f\"轉換前：{piece[0][1]}，資料型態為：{type(piece[0][1])}\")\n",
    "print(f\"轉換前：{snc(piece[0][1])}，資料型態為：{type(snc(piece[0][1]))}\")"
   ]
  },
  {
   "cell_type": "markdown",
   "metadata": {},
   "source": [
    "# 資料處理抽象概念與實作"
   ]
  },
  {
   "cell_type": "markdown",
   "metadata": {},
   "source": [
    "為了能夠做預測，所以先將資料區分為四個不同權重的區間  \n",
    "隨便把一個確定的樣本作為我的標準  \n",
    "\n",
    "以下圖為例：  \n",
    "\n",
    "可以看到綠色的`A區間`，雖然有資料，但對於整個模型而言是次等重要的區間  \n",
    "橘色的`B區間`，為整個bar chart的最高峰值區間，在這個區間內的資料決定了大部分的判決  \n",
    "藍色的`C區間`，也屬於子判決區，但會比`A區間`來的更低優先度  \n",
    "最後`D區間`，可以視為整個資料裡的雜訊，所以優先度最低  \n",
    "\n",
    "總結的話，各區間的優先度為：**B>A>C>D**"
   ]
  },
  {
   "cell_type": "markdown",
   "metadata": {},
   "source": [
    "因為只有四個區間，所以我的作法是依據區間內的`資料密度*權重`來作為各個區間的`區間權重值`"
   ]
  },
  {
   "cell_type": "markdown",
   "metadata": {},
   "source": [
    "![intervals](./image/interval.png)"
   ]
  },
  {
   "cell_type": "code",
   "execution_count": 4,
   "metadata": {},
   "outputs": [
    {
     "name": "stdout",
     "output_type": "stream",
     "text": [
      "區間A的資料筆數：55\n",
      "區間B的資料筆數：20\n",
      "區間C的資料筆數：17\n",
      "區間D的資料筆數：15\n"
     ]
    }
   ],
   "source": [
    "# 權重區間表\n",
    "token = [0.5, 1, 0.25, 0.01]\n",
    "\n",
    "# 區間儲存陣列\n",
    "intervals = [[], [], [], []]\n",
    "\n",
    "# 先分類每筆資料到各個區間\n",
    "for data in piece:\n",
    "\n",
    "    if float(data[0]) <= 130:\n",
    "        intervals[0].append(snc(data[1]))\n",
    "    \n",
    "    if float(data[0]) > 130 and float(data[0]) <= 158:\n",
    "        intervals[1].append(snc(data[1]))\n",
    "\n",
    "    if float(data[0]) > 158 and float(data[0]) <= 194:\n",
    "        intervals[2].append(snc(data[1]))\n",
    "\n",
    "    if float(data[0]) > 194.0:\n",
    "        intervals[3].append(snc(data[1]))\n",
    "\n",
    "print(f\"區間A的資料筆數：{len(intervals[0])}\")\n",
    "print(f\"區間B的資料筆數：{len(intervals[1])}\")\n",
    "print(f\"區間C的資料筆數：{len(intervals[2])}\")\n",
    "print(f\"區間D的資料筆數：{len(intervals[3])}\")"
   ]
  },
  {
   "cell_type": "code",
   "execution_count": 5,
   "metadata": {},
   "outputs": [
    {
     "name": "stdout",
     "output_type": "stream",
     "text": [
      "區間A的區間權重值：101861\n",
      "區間B的區間權重值：732713\n",
      "區間C的區間權重值：81527\n",
      "區間D的區間權重值：159\n"
     ]
    }
   ],
   "source": [
    "for counter, interval in enumerate(intervals):\n",
    "    accumulator = 0\n",
    "    for data in interval:\n",
    "        accumulator += data\n",
    "    intervals[counter] = round(accumulator/len(intervals[counter])*token[counter])\n",
    "\n",
    "print(f\"區間A的區間權重值：{intervals[0]}\")\n",
    "print(f\"區間B的區間權重值：{intervals[1]}\")\n",
    "print(f\"區間C的區間權重值：{intervals[2]}\")\n",
    "print(f\"區間D的區間權重值：{intervals[3]}\")"
   ]
  },
  {
   "cell_type": "markdown",
   "metadata": {},
   "source": [
    "處理好區間權重值之後，就可以把資料製作成DataFrame格式，以利接下來的預測處理  \n",
    "\n",
    "由於步驟全部都規畫好了，所以可以開始把資料抓進來，使用以上的方式製作前處裡樣本"
   ]
  },
  {
   "cell_type": "code",
   "execution_count": 6,
   "metadata": {},
   "outputs": [
    {
     "name": "stdout",
     "output_type": "stream",
     "text": [
      "   A-interval  B-interval  C-interval  D-interval\n",
      "0      101861      732713       81527         159\n"
     ]
    }
   ],
   "source": [
    "# 建立DataFrame\n",
    "\n",
    "dic = {\n",
    "    \"A-interval\": [intervals[0]],\n",
    "    \"B-interval\": [intervals[1]],\n",
    "    \"C-interval\": [intervals[2]],\n",
    "    \"D-interval\": [intervals[3]]\n",
    "}\n",
    "\n",
    "df = pd.DataFrame(dic)\n",
    "\n",
    "print(df)"
   ]
  },
  {
   "cell_type": "markdown",
   "metadata": {},
   "source": [
    "# 挖掘和正式資料前處理"
   ]
  },
  {
   "cell_type": "markdown",
   "metadata": {},
   "source": [
    "測試完各項功能之後就是把所有資料抓出來做模型訓練  \n",
    "\n",
    "因此使用`os`來走訪各個路徑下的資料集並製作成區間權重陣列  \n",
    "最後再把全部的資料打包成一個矩陣"
   ]
  },
  {
   "cell_type": "code",
   "execution_count": 7,
   "metadata": {},
   "outputs": [],
   "source": [
    "# 首先使用os.walk的方式把所有資料集的路徑取出來\n",
    "\n",
    "task = []\n",
    "\n",
    "for root, dirs, files in os.walk(\"./data\", topdown=False):\n",
    "    for name in files:\n",
    "        if name.count(\".txt\"):\n",
    "            task.append(os.path.join(root, name).replace(\"\\\\\", \"/\"))"
   ]
  },
  {
   "cell_type": "code",
   "execution_count": 8,
   "metadata": {},
   "outputs": [],
   "source": [
    "# 正式定義函數方法\n",
    "\n",
    "def fetch_dataset(directory:str):\n",
    "    dataset = []\n",
    "    with open(directory, mode=\"r\") as raw:\n",
    "        for fragment in raw:\n",
    "            dataset.append(fragment.split())\n",
    "    return dataset\n",
    "\n",
    "def snc(raw:str, restrict:bool=False, ndigits:int=1):\n",
    "    raw = raw.split(\"e\")\n",
    "    final = float(raw[0])*(10**int(raw[1]))\n",
    "    if restrict:\n",
    "        return round(final, ndigits)\n",
    "    else:\n",
    "        return final\n",
    "\n",
    "def lazy_interval(dataset:list, token:list=[0.5, 1, 0.25, 0.01]):\n",
    "    intervals = [[], [], [], []]\n",
    "    for data in dataset:\n",
    "        if float(data[0]) <= 130:\n",
    "            intervals[0].append(snc(data[1]))\n",
    "        if float(data[0]) > 130 and float(data[0]) <= 158:\n",
    "            intervals[1].append(snc(data[1]))\n",
    "        if float(data[0]) > 158 and float(data[0]) <= 194:\n",
    "            intervals[2].append(snc(data[1]))\n",
    "        if float(data[0]) > 194.0:\n",
    "            intervals[3].append(snc(data[1]))\n",
    "    for counter, interval in enumerate(intervals):\n",
    "        accumulator = 0\n",
    "        for data in interval:\n",
    "            accumulator += data\n",
    "        intervals[counter] = round(accumulator/len(intervals[counter])*token[counter])\n",
    "    return intervals"
   ]
  },
  {
   "cell_type": "code",
   "execution_count": 9,
   "metadata": {},
   "outputs": [
    {
     "name": "stdout",
     "output_type": "stream",
     "text": [
      "總計全部資料筆數：22\n",
      "資料總數是否正確：True\n"
     ]
    }
   ],
   "source": [
    "# 把全部資料集的區間加權值都計算出來\n",
    "\n",
    "global_intervals = []\n",
    "\n",
    "for i in task:\n",
    "    global_intervals.append(lazy_interval(fetch_dataset(i)))\n",
    "\n",
    "print(f\"總計全部資料筆數：{len(global_intervals)}\")\n",
    "print(f\"資料總數是否正確：{len(global_intervals) == len(task)}\")"
   ]
  },
  {
   "cell_type": "code",
   "execution_count": 10,
   "metadata": {},
   "outputs": [],
   "source": [
    "# 處理各筆資料\n",
    "\n",
    "dataset_A = []\n",
    "dataset_B = []\n",
    "dataset_C = []\n",
    "dataset_D = []\n",
    "dataset_type = []\n",
    "\n",
    "for interval in global_intervals:\n",
    "    dataset_A.append(interval[0])\n",
    "    dataset_B.append(interval[1])\n",
    "    dataset_C.append(interval[2])\n",
    "    dataset_D.append(interval[3])\n",
    "    dataset_type.append(1)\n",
    "\n",
    "copied = [dataset_A, dataset_B, dataset_C, dataset_D, dataset_type]"
   ]
  },
  {
   "cell_type": "code",
   "execution_count": 11,
   "metadata": {},
   "outputs": [
    {
     "name": "stdout",
     "output_type": "stream",
     "text": [
      "True\n",
      "False\n"
     ]
    }
   ],
   "source": [
    "# 交換區間製作不同種類的資料\n",
    "\n",
    "exchange = copy.deepcopy(copied)\n",
    "\n",
    "exchange[0], exchange[1] = exchange[1], exchange[0]\n",
    "exchange[2], exchange[3] = exchange[3], exchange[2]\n",
    "\n",
    "for counter, i in enumerate(exchange[4]):\n",
    "    exchange[4][counter] = 2\n",
    "\n",
    "print(copied == copied)\n",
    "print(exchange == copied)"
   ]
  },
  {
   "cell_type": "code",
   "execution_count": 12,
   "metadata": {},
   "outputs": [
    {
     "name": "stdout",
     "output_type": "stream",
     "text": [
      "          A        B       C       D  target\n",
      "0    214861  1403605   68327     246       1\n",
      "1    192401  1012803   70794     211       1\n",
      "2    164653   852439   70433     194       1\n",
      "3    194933   917072   73045     202       1\n",
      "4    185557   991800   54375     232       1\n",
      "5    195966   860165   68813     275       1\n",
      "6    168324  1014385   48103     258       1\n",
      "7    101861   732713   81527     159       1\n",
      "8    178878   985681   50203     266       1\n",
      "9    165409   724844   58157     203       1\n",
      "10   303129  1988739  142614     285       1\n",
      "11   215597  1161455   54959     262       1\n",
      "12   235334   993181   63804     319       1\n",
      "13   127015   629272   45026     203       1\n",
      "14   145055   645487   52593     183       1\n",
      "15   142699   753021   62188     179       1\n",
      "16   234486  1128694   75695     361       1\n",
      "17   255452  1087454   49428     470       1\n",
      "18   463704  2272382  113164     647       1\n",
      "19   184489   921991   46180     207       1\n",
      "20   211552   841981   75535     222       1\n",
      "21   198349   955243   48852     200       1\n",
      "22  1403605   214861     246   68327       2\n",
      "23  1012803   192401     211   70794       2\n",
      "24   852439   164653     194   70433       2\n",
      "25   917072   194933     202   73045       2\n",
      "26   991800   185557     232   54375       2\n",
      "27   860165   195966     275   68813       2\n",
      "28  1014385   168324     258   48103       2\n",
      "29   732713   101861     159   81527       2\n",
      "30   985681   178878     266   50203       2\n",
      "31   724844   165409     203   58157       2\n",
      "32  1988739   303129     285  142614       2\n",
      "33  1161455   215597     262   54959       2\n",
      "34   993181   235334     319   63804       2\n",
      "35   629272   127015     203   45026       2\n",
      "36   645487   145055     183   52593       2\n",
      "37   753021   142699     179   62188       2\n",
      "38  1128694   234486     361   75695       2\n",
      "39  1087454   255452     470   49428       2\n",
      "40  2272382   463704     647  113164       2\n",
      "41   921991   184489     207   46180       2\n",
      "42   841981   211552     222   75535       2\n",
      "43   955243   198349     200   48852       2\n"
     ]
    }
   ],
   "source": [
    "# 製作成DataFrame\n",
    "\n",
    "dataset_A.extend(exchange[0])\n",
    "dataset_B.extend(exchange[1])\n",
    "dataset_C.extend(exchange[2])\n",
    "dataset_D.extend(exchange[3])\n",
    "dataset_type.extend(exchange[4])\n",
    "\n",
    "dataset = pd.DataFrame(\n",
    "    list(zip(dataset_A, dataset_B, dataset_C, dataset_D, dataset_type)),\n",
    "    columns=[\"A\", \"B\", \"C\", \"D\", \"target\"]\n",
    ")\n",
    "\n",
    "print(dataset)"
   ]
  },
  {
   "cell_type": "markdown",
   "metadata": {},
   "source": [
    "# K-NN預測"
   ]
  },
  {
   "cell_type": "code",
   "execution_count": 13,
   "metadata": {},
   "outputs": [
    {
     "data": {
      "text/html": [
       "<div>\n",
       "<style scoped>\n",
       "    .dataframe tbody tr th:only-of-type {\n",
       "        vertical-align: middle;\n",
       "    }\n",
       "\n",
       "    .dataframe tbody tr th {\n",
       "        vertical-align: top;\n",
       "    }\n",
       "\n",
       "    .dataframe thead th {\n",
       "        text-align: right;\n",
       "    }\n",
       "</style>\n",
       "<table border=\"1\" class=\"dataframe\">\n",
       "  <thead>\n",
       "    <tr style=\"text-align: right;\">\n",
       "      <th></th>\n",
       "      <th>A</th>\n",
       "      <th>B</th>\n",
       "      <th>C</th>\n",
       "      <th>D</th>\n",
       "      <th>target</th>\n",
       "    </tr>\n",
       "  </thead>\n",
       "  <tbody>\n",
       "    <tr>\n",
       "      <th>0</th>\n",
       "      <td>214861</td>\n",
       "      <td>1403605</td>\n",
       "      <td>68327</td>\n",
       "      <td>246</td>\n",
       "      <td>1</td>\n",
       "    </tr>\n",
       "    <tr>\n",
       "      <th>1</th>\n",
       "      <td>192401</td>\n",
       "      <td>1012803</td>\n",
       "      <td>70794</td>\n",
       "      <td>211</td>\n",
       "      <td>1</td>\n",
       "    </tr>\n",
       "    <tr>\n",
       "      <th>2</th>\n",
       "      <td>164653</td>\n",
       "      <td>852439</td>\n",
       "      <td>70433</td>\n",
       "      <td>194</td>\n",
       "      <td>1</td>\n",
       "    </tr>\n",
       "    <tr>\n",
       "      <th>3</th>\n",
       "      <td>194933</td>\n",
       "      <td>917072</td>\n",
       "      <td>73045</td>\n",
       "      <td>202</td>\n",
       "      <td>1</td>\n",
       "    </tr>\n",
       "    <tr>\n",
       "      <th>4</th>\n",
       "      <td>185557</td>\n",
       "      <td>991800</td>\n",
       "      <td>54375</td>\n",
       "      <td>232</td>\n",
       "      <td>1</td>\n",
       "    </tr>\n",
       "  </tbody>\n",
       "</table>\n",
       "</div>"
      ],
      "text/plain": [
       "        A        B      C    D  target\n",
       "0  214861  1403605  68327  246       1\n",
       "1  192401  1012803  70794  211       1\n",
       "2  164653   852439  70433  194       1\n",
       "3  194933   917072  73045  202       1\n",
       "4  185557   991800  54375  232       1"
      ]
     },
     "execution_count": 13,
     "metadata": {},
     "output_type": "execute_result"
    }
   ],
   "source": [
    "plt.rcParams[\"font.sans-serif\"] = [\"Microsoft YaHei\"]\n",
    "\n",
    "x = pd.DataFrame(dataset, columns=[\"A\", \"B\", \"C\", \"D\"])\n",
    "y = pd.DataFrame(dataset[\"target\"], columns=[\"target\"])\n",
    "df = pd.concat([x,y], axis=1)\n",
    "\n",
    "df.head()"
   ]
  },
  {
   "cell_type": "code",
   "execution_count": 14,
   "metadata": {},
   "outputs": [
    {
     "name": "stdout",
     "output_type": "stream",
     "text": [
      "0\n",
      "資料筆數: (44, 5)\n",
      "資料的欄位名稱，分別是: Index(['A', 'B', 'C', 'D', 'target'], dtype='object')\n",
      "第一筆的資料內容: A          214861\n",
      "B         1403605\n",
      "C           68327\n",
      "D             246\n",
      "target          1\n",
      "Name: 0, dtype: int64\n",
      "第一筆的預測目標: 1\n"
     ]
    }
   ],
   "source": [
    "print(df.isnull().values.sum())\n",
    "print(\"資料筆數:\", df.shape)\n",
    "print(\"資料的欄位名稱，分別是:\", df.keys())\n",
    "print(\"第一筆的資料內容:\", df.iloc[0,::])\n",
    "print(\"第一筆的預測目標:\", df[\"target\"][0])\n"
   ]
  },
  {
   "cell_type": "code",
   "execution_count": 15,
   "metadata": {},
   "outputs": [
    {
     "name": "stdout",
     "output_type": "stream",
     "text": [
      "        A        B      C    D  target\n",
      "0  214861  1403605  68327  246       1\n",
      "1  192401  1012803  70794  211       1\n",
      "2  164653   852439  70433  194       1\n",
      "3  194933   917072  73045  202       1\n",
      "4  185557   991800  54375  232       1\n",
      "target\n",
      "1    22\n",
      "2    22\n",
      "dtype: int64\n"
     ]
    }
   ],
   "source": [
    "print(df.head())\n",
    "print(df.groupby(\"target\").size())"
   ]
  },
  {
   "cell_type": "code",
   "execution_count": 16,
   "metadata": {},
   "outputs": [
    {
     "data": {
      "text/plain": [
       "<Figure size 432x288 with 0 Axes>"
      ]
     },
     "metadata": {},
     "output_type": "display_data"
    },
    {
     "data": {
      "image/png": "[encoded data removed]",
      "text/plain": [
       "<Figure size 761.875x720 with 20 Axes>"
      ]
     },
     "metadata": {
      "needs_background": "light"
     },
     "output_type": "display_data"
    }
   ],
   "source": [
    "plt.figure()\n",
    "sns.pairplot(df, hue = \"target\", markers=[\"o\", \"X\"], vars=[\"A\", \"B\", \"C\", \"D\"])\n",
    "plt.show()"
   ]
  },
  {
   "cell_type": "code",
   "execution_count": 17,
   "metadata": {},
   "outputs": [
    {
     "name": "stdout",
     "output_type": "stream",
     "text": [
      "訓練集的維度大小:    (22, 4)\n",
      "測試集的維度大小:    (22, 4)\n"
     ]
    }
   ],
   "source": [
    "x = df[[\"A\", \"B\", \"C\", \"D\"]]\n",
    "y = df[[\"target\"]]\n",
    "\n",
    "train_X , test_X , train_y , test_y = train_test_split(x, y[\"target\"],test_size=0.5,random_state=42)\n",
    "\n",
    "print(\"訓練集的維度大小:   \", train_X.shape)\n",
    "print(\"測試集的維度大小:   \", test_X.shape)"
   ]
  },
  {
   "cell_type": "code",
   "execution_count": 18,
   "metadata": {},
   "outputs": [
    {
     "data": {
      "text/plain": [
       "KNeighborsClassifier(n_neighbors=3)"
      ]
     },
     "execution_count": 18,
     "metadata": {},
     "output_type": "execute_result"
    }
   ],
   "source": [
    "model = KNeighborsClassifier(n_neighbors=3)\n",
    "model.fit(train_X, train_y)"
   ]
  },
  {
   "cell_type": "code",
   "execution_count": 19,
   "metadata": {},
   "outputs": [
    {
     "name": "stdout",
     "output_type": "stream",
     "text": [
      "1.0\n",
      "[[11  0]\n",
      " [ 0 11]]\n"
     ]
    }
   ],
   "source": [
    "pred_y = model.predict(test_X)\n",
    "print(accuracy_score(test_y, pred_y))\n",
    "print(confusion_matrix(test_y, pred_y))"
   ]
  },
  {
   "cell_type": "markdown",
   "metadata": {},
   "source": [
    "# 邏輯回歸預測"
   ]
  },
  {
   "cell_type": "code",
   "execution_count": 20,
   "metadata": {},
   "outputs": [],
   "source": [
    "x = pd.DataFrame(dataset, columns=[\"A\", \"B\", \"C\", \"D\"])\n",
    "y = pd.DataFrame(dataset[\"target\"], columns=[\"target\"])\n",
    "df = pd.concat([x,y], axis=1)"
   ]
  },
  {
   "cell_type": "code",
   "execution_count": 21,
   "metadata": {},
   "outputs": [
    {
     "name": "stdout",
     "output_type": "stream",
     "text": [
      "0\n",
      "資料筆數: (44, 5)\n",
      "資料的欄位名稱，分別是: Index(['A', 'B', 'C', 'D', 'target'], dtype='object')\n",
      "第一筆的資料內容: A          214861\n",
      "B         1403605\n",
      "C           68327\n",
      "D             246\n",
      "target          1\n",
      "Name: 0, dtype: int64\n",
      "第一筆的預測目標: 1\n"
     ]
    }
   ],
   "source": [
    "print(dataset.isnull().values.sum())\n",
    "print(\"資料筆數:\", dataset.shape)\n",
    "print(\"資料的欄位名稱，分別是:\", dataset.keys())\n",
    "print(\"第一筆的資料內容:\", dataset.iloc[0,::])\n",
    "print(\"第一筆的預測目標:\",dataset[\"target\"][0])"
   ]
  },
  {
   "cell_type": "code",
   "execution_count": 22,
   "metadata": {},
   "outputs": [
    {
     "name": "stderr",
     "output_type": "stream",
     "text": [
      "*c* argument looks like a single numeric RGB or RGBA sequence, which should be avoided as value-mapping will have precedence in case its length matches with *x* & *y*.  Please use the *color* keyword-argument or provide a 2D array with a single row if you intend to specify the same RGB or RGBA value for all points.\n",
      "*c* argument looks like a single numeric RGB or RGBA sequence, which should be avoided as value-mapping will have precedence in case its length matches with *x* & *y*.  Please use the *color* keyword-argument or provide a 2D array with a single row if you intend to specify the same RGB or RGBA value for all points.\n"
     ]
    },
    {
     "data": {
      "image/png": "[encoded data removed]",
      "text/plain": [
       "<Figure size 432x432 with 1 Axes>"
      ]
     },
     "metadata": {
      "needs_background": "light"
     },
     "output_type": "display_data"
    }
   ],
   "source": [
    "plt.rcParams[\"figure.figsize\"] = (6, 6)\n",
    "plt.rcParams[\"font.sans-serif\"] = [\"Microsoft YaHei\"] \n",
    "\n",
    "markers = (\"o\", \"^\", \"x\")\n",
    "colors = (\"red\", \"green\", \"blue\")\n",
    "cmap = ListedColormap(colors[:len(np.unique(y))])\n",
    "\n",
    "y = dataset[\"target\"].values\n",
    "\n",
    "for i, t in enumerate(np.unique(y)):  \n",
    "    p = dataset[y == t]\n",
    "    plt.scatter(x=p[\"A\"],  y=p[\"B\"], c=cmap(i), marker=markers[i],  label=t)\n",
    "\n",
    "plt.xlabel(\"A\")\n",
    "plt.ylabel(\"B\")\n",
    "plt.legend(loc=\"upper left\")\n",
    "plt.tight_layout()\n",
    "plt.show()"
   ]
  },
  {
   "cell_type": "code",
   "execution_count": 23,
   "metadata": {},
   "outputs": [
    {
     "name": "stdout",
     "output_type": "stream",
     "text": [
      "1    22\n",
      "2    22\n",
      "Name: target, dtype: int64\n"
     ]
    }
   ],
   "source": [
    "dataset = dataset[[\"A\",\"B\",\"target\"]]\n",
    "dataset = dataset[dataset[\"target\"].isin([1,2])] \n",
    "print(dataset[\"target\"].value_counts())"
   ]
  },
  {
   "cell_type": "code",
   "execution_count": 24,
   "metadata": {},
   "outputs": [
    {
     "name": "stdout",
     "output_type": "stream",
     "text": [
      "訓練集的維度大小:    (22, 2)\n",
      "測試集的維度大小:    (22, 2)\n"
     ]
    }
   ],
   "source": [
    "train_X, test_X, train_y, test_y = train_test_split(dataset[[\"A\",\"B\"]], dataset[[\"target\"]], test_size=0.5, random_state=42)\n",
    "\n",
    "sc = StandardScaler()\n",
    "\n",
    "train_X_std = sc.fit_transform(train_X)\n",
    "test_X_std = sc.fit_transform(test_X)\n",
    "\n",
    "print(\"訓練集的維度大小:   \", train_X_std.shape)\n",
    "print(\"測試集的維度大小:   \", test_X_std.shape)"
   ]
  },
  {
   "cell_type": "code",
   "execution_count": 25,
   "metadata": {},
   "outputs": [
    {
     "name": "stdout",
     "output_type": "stream",
     "text": [
      "係數:  [[ 1.5834422  -1.36405206]]\n",
      "截距:  [0.02104257]\n"
     ]
    }
   ],
   "source": [
    "model = LogisticRegression()\n",
    "model.fit(train_X_std, train_y[\"target\"])\n",
    "print (\"係數: \", model.coef_)\n",
    "print (\"截距: \", model.intercept_)"
   ]
  },
  {
   "cell_type": "code",
   "execution_count": 26,
   "metadata": {},
   "outputs": [
    {
     "name": "stdout",
     "output_type": "stream",
     "text": [
      "[2 2 2 2 2 2 1 1 1 1 1 2 2 1 1 1 2 1 1 1 2 2]\n",
      "[2 2 2 2 2 2 1 1 1 1 1 2 2 1 1 1 2 1 1 1 2 2]\n",
      "[[0.11384645 0.88615355]\n",
      " [0.09215486 0.90784514]\n",
      " [0.08447066 0.91552934]\n",
      " [0.15404233 0.84595767]\n",
      " [0.07738196 0.92261804]\n",
      " [0.00332053 0.99667947]\n",
      " [0.9427695  0.0572305 ]\n",
      " [0.93396037 0.06603963]\n",
      " [0.94272093 0.05727907]\n",
      " [0.92434766 0.07565234]\n",
      " [0.94967457 0.05032543]\n",
      " [0.09981477 0.90018523]\n",
      " [0.13226477 0.86773523]\n",
      " [0.92782217 0.07217783]\n",
      " [0.94906963 0.05093037]\n",
      " [0.84309084 0.15690916]\n",
      " [0.08044782 0.91955218]\n",
      " [0.88869081 0.11130919]\n",
      " [0.87035392 0.12964608]\n",
      " [0.95850867 0.04149133]\n",
      " [0.06549489 0.93450511]\n",
      " [0.06578245 0.93421755]]\n"
     ]
    }
   ],
   "source": [
    "print(model.predict(test_X_std))\n",
    "print(test_y[\"target\"].values)\n",
    "print(model.predict_proba(test_X_std))"
   ]
  },
  {
   "cell_type": "code",
   "execution_count": 27,
   "metadata": {},
   "outputs": [
    {
     "name": "stdout",
     "output_type": "stream",
     "text": [
      "[[11  0]\n",
      " [ 0 11]]\n"
     ]
    }
   ],
   "source": [
    "cm = confusion_matrix(test_y[\"target\"], model.predict(test_X_std))\n",
    "print(cm)"
   ]
  },
  {
   "cell_type": "code",
   "execution_count": 28,
   "metadata": {},
   "outputs": [],
   "source": [
    "plt.rcParams[\"font.sans-serif\"] = [\"Microsoft YaHei\"]\n",
    "\n",
    "x = test_X_std\n",
    "y = test_y[\"target\"].values\n",
    "\n",
    "markers = (\"o\", \"^\", \"x\")\n",
    "colors = (\"red\", \"green\", \"blue\")\n",
    "cmap = ListedColormap(colors[:len(np.unique(y))])\n",
    "\n",
    "x0min, x0max = x[:, 0].min() - 1, x[:, 0].max() + 1\n",
    "x1min, x1max = x[:, 1].min() - 1, x[:, 1].max() + 1\n",
    "\n",
    "a, b = np.meshgrid(np.arange(x0min, x0max, 0.03), np.arange(x1min, x1max, 0.03)) \n",
    "\n",
    "Z = model.predict(np.array([a.ravel(), b.ravel()]).T) \n",
    "Z = Z.reshape(a.shape)"
   ]
  },
  {
   "cell_type": "code",
   "execution_count": 29,
   "metadata": {},
   "outputs": [
    {
     "name": "stderr",
     "output_type": "stream",
     "text": [
      "*c* argument looks like a single numeric RGB or RGBA sequence, which should be avoided as value-mapping will have precedence in case its length matches with *x* & *y*.  Please use the *color* keyword-argument or provide a 2D array with a single row if you intend to specify the same RGB or RGBA value for all points.\n",
      "*c* argument looks like a single numeric RGB or RGBA sequence, which should be avoided as value-mapping will have precedence in case its length matches with *x* & *y*.  Please use the *color* keyword-argument or provide a 2D array with a single row if you intend to specify the same RGB or RGBA value for all points.\n"
     ]
    },
    {
     "data": {
      "image/png": "[encoded data removed]",
      "text/plain": [
       "<Figure size 432x432 with 1 Axes>"
      ]
     },
     "metadata": {
      "needs_background": "light"
     },
     "output_type": "display_data"
    }
   ],
   "source": [
    "plt.rcParams[\"figure.figsize\"] = (6, 6)\n",
    "\n",
    "plt.contourf(a, b, Z, alpha=0.3, cmap=cmap)\n",
    "plt.xlim(a.min(), a.max())\n",
    "plt.ylim(b.min(), b.max())\n",
    "\n",
    "for i, t in enumerate(np.unique(y)):  \n",
    "    p = x[y == t]\n",
    "    plt.scatter(x=p[:,0],  y=p[:,1], c=cmap(i), marker=markers[i],  label=t)\n",
    "\n",
    "plt.xlabel(\"A\")\n",
    "plt.ylabel(\"B\")\n",
    "plt.legend(loc=\"upper left\")\n",
    "plt.show()"
   ]
  }
 ],
 "metadata": {
  "kernelspec": {
   "display_name": "Python 3.8.10 64-bit",
   "language": "python",
   "name": "python3"
  },
  "language_info": {
   "codemirror_mode": {
    "name": "ipython",
    "version": 3
   },
   "file_extension": ".py",
   "mimetype": "text/x-python",
   "name": "python",
   "nbconvert_exporter": "python",
   "pygments_lexer": "ipython3",
   "version": "3.8.10"
  },
  "orig_nbformat": 4,
  "vscode": {
   "interpreter": {
    "hash": "3a52ff5b83b351a94aaefb88a02c1be827c964b330dd4b3ecdaa88c1827169af"
   }
  }
 },
 "nbformat": 4,
 "nbformat_minor": 2
}
