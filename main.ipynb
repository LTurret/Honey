{
 "cells": [
  {
   "cell_type": "markdown",
   "metadata": {},
   "source": [
    "# 前置\n",
    "先導入原始資料集並切割為一個`長度為2`的`List`資料"
   ]
  },
  {
   "cell_type": "code",
   "execution_count": 19,
   "metadata": {},
   "outputs": [
    {
     "name": "stdout",
     "output_type": "stream",
     "text": [
      "96\n"
     ]
    }
   ],
   "source": [
    "piece = list()\n",
    "\n",
    "with open(\"./raw/List1.txt\", mode=\"r\") as raw:\n",
    "    for i in raw:\n",
    "        piece.append(i.split())\n",
    "\n",
    "print(len(piece))"
   ]
  },
  {
   "cell_type": "markdown",
   "metadata": {},
   "source": [
    "設計一個函式使`string`能夠依照科學記號轉換為`float`\n",
    "$$\\text{Scientific Notation} = N_\\text{float} \\cdot E \\pm K_\\text{exponential}$$\n",
    "目前沒有遇過荷值比指數部分為負數，因此先不實作負指數轉換"
   ]
  },
  {
   "cell_type": "code",
   "execution_count": 23,
   "metadata": {},
   "outputs": [
    {
     "name": "stdout",
     "output_type": "stream",
     "text": [
      "1.616e3 , 1616.0\n"
     ]
    }
   ],
   "source": [
    "def snc(raw:str, restrict:bool=False, ndigits:int=1):\n",
    "    raw = raw.split(\"e\")\n",
    "    final = float(raw[0])*(10**int(raw[1]))\n",
    "    if restrict:\n",
    "        return round(final, ndigits)\n",
    "    else:\n",
    "        return final\n",
    "\n",
    "print(f\"{piece[0][1]} , {snc(piece[0][1])}\")"
   ]
  },
  {
   "cell_type": "markdown",
   "metadata": {},
   "source": [
    "# 預測\n",
    "先工人智慧找出荷值比中的規律，將特徵分類出來，接著再使用邏輯回歸實作分析預測"
   ]
  }
 ],
 "metadata": {
  "interpreter": {
   "hash": "0377873d44c391242eff188e73225de5a20f5928567df5ff9090c8ac6db5e69e"
  },
  "kernelspec": {
   "display_name": "Python 3.8.10 64-bit",
   "language": "python",
   "name": "python3"
  },
  "language_info": {
   "codemirror_mode": {
    "name": "ipython",
    "version": 3
   },
   "file_extension": ".py",
   "mimetype": "text/x-python",
   "name": "python",
   "nbconvert_exporter": "python",
   "pygments_lexer": "ipython3",
   "version": "3.8.10"
  },
  "orig_nbformat": 4
 },
 "nbformat": 4,
 "nbformat_minor": 2
}
